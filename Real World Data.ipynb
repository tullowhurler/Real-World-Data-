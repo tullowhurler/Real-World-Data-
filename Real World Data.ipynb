{
 "cells": [
  {
   "cell_type": "markdown",
   "metadata": {},
   "source": [
    "# The Prevalence of Concussion in Amateur Irish Rugby Players\n",
    "![concussion](img/concussion1.jpg)"
   ]
  },
  {
   "attachments": {},
   "cell_type": "markdown",
   "metadata": {},
   "source": [
    "## Introduction\n",
    "I have decided to base my assigment on a collection of data I gathered for my thesis as part of my Bsc. in Physiotherapy in 2012. For my thesis I investigated the prevalence of concussion in Irish amateur rugby players. On completion of my research my findings were used in various different sports medicine conferences and also featured in a national newspaper at the time.\n",
    "\n",
    "\n",
    "Concern regarding concussion injury in rugby union has grown, due to its potentially dangerous long- term effects on players, but the prevalence is not known. There are strict ‘return to play’ guidelines after concussion, however, it is unclear how compliant players are in regards to these regulations in Ireland. Previous studies of New Zealand rugby players have found the prevalence of concussion to be as high as 60%(1). Hollis et al. in 2009 found that a player who received one concussion was twice as likely to suffer another later in the season (2). At the time of my study there was no published data on Irish rugby players. \n",
    "\n",
    "\n",
    "\n",
    "The original study consisted of 114 amatuer players who played with various Leinster junior clubs. Each player filled out a questionnaire designed by myself to investigate how common concussion was, it's symptoms and how much each player knew about concussion. Below is a copy of the first 2 pages of the questionnaire that I created to collect the data. \n",
    "\n",
    "![Q1](img/Q1.png)\n",
    "![Q2](img/Q2.png)\n",
    "\n",
    "\n",
    "\n",
    "Almost 33% (37/114) of players suffered a diagnosed concussion during their rugby-playing career (95% C.I. 23.4%-40.6%). Headache was the most common post-concussion symptom, present in 86% (32/37) of those with diagnosed concussion, dizziness ranked second ith 24% and nausea was third with 15%. Mean age of the 114 respondents was 25 years.The mean duration playing rugby was 13 years. Players trained 2 hours (median) a week and participated in 14 (median) matches a year. 46% concussions occurred in forwards and 54% in backs. 75% of players felt that concussion a danger to welfare however 57% would play in an important game if suffering from concussion symptoms.\n",
    "\n",
    "Below is the graph depicting the post concussion symtopms players reported in the original study. \n",
    "\n",
    "![symptoms](img/symptoms.png)\n",
    "\n"
   ]
  },
  {
   "cell_type": "markdown",
   "metadata": {},
   "source": [
    "## Variables and their relationships \n",
    "The main points from the data that I am going to try and find a hypothetical link between is the more games a player plays after a concussion, the more likely he is to suffer a repeat injury. I found from my original dataset that 92% of concussions happen during a game. The most worrying statistic was that when a player suffered a concusion he generally had on average another 2 concussion after that original event. The 37 players who suffered a concussion from my original study accounted for 85 concussions between them with the average being 2.29 concussions per player. \n",
    "\n",
    "I have decided to mock up the data of 100 players who suffered a concussion using the four variables of age, number of games played in a season, number of concussions and most common post-concussion symptom. \n",
    "\n",
    "I will use the first variable (Age) with the normal distribution between 20-30 years. I have used the normal distribution for this variable as the mean age of players was 25 between with the range from 20-30 which should fit nicely into this distribution. \n",
    "\n",
    "My second variable will be (Games) and I will use the exponential distribution between 10-20 games. My third variable will be (Concussion) which will again be with an exponential distribution between 1-3. I have decided to use the exponential distribution for both by second and third variables to try and create a graph indicating a relationship between the two variables. Ideally the graph will represent a linear relationship between the more games they play post concussion the more injuries are likely to occur. From the original study players who suffered a concussion generally suffered on average two more.  \n",
    "My last variable will be (Symptoms) which will be selected using normal distribution to divide up headache, dizziness and nausea. The first three variable will be non-zero integers and the last variable will be categorical variable with three different values. I have used normal distribution for these variables as generally each player would suffer from a multiple of different symtopms with these three conditions being the most prevalent.\n",
    "\n",
    "I will use this notebook to develop an algorithm to discuss my hypothetical link between an increased number of games post concussion leading to a heightened risk of suffering another concussion. I will generate some data using the numpy.random package and pandas and seaborn packages to analyse the data."
   ]
  },
  {
   "cell_type": "code",
   "execution_count": null,
   "metadata": {},
   "outputs": [],
   "source": []
  },
  {
   "cell_type": "code",
   "execution_count": null,
   "metadata": {},
   "outputs": [],
   "source": []
  },
  {
   "cell_type": "markdown",
   "metadata": {},
   "source": [
    "## References\n",
    "1. https://www.ncbi.nlm.nih.gov/pmc/articles/PMC2577443/\n"
   ]
  }
 ],
 "metadata": {
  "kernelspec": {
   "display_name": "Python 3",
   "language": "python",
   "name": "python3"
  },
  "language_info": {
   "codemirror_mode": {
    "name": "ipython",
    "version": 3
   },
   "file_extension": ".py",
   "mimetype": "text/x-python",
   "name": "python",
   "nbconvert_exporter": "python",
   "pygments_lexer": "ipython3",
   "version": "3.6.5"
  }
 },
 "nbformat": 4,
 "nbformat_minor": 2
}
