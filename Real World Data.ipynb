{
 "cells": [
  {
   "cell_type": "markdown",
   "metadata": {},
   "source": [
    "# The Prevalence of Concussion in Amateur Irish Rugby Players\n",
    "![concussion](img/concussion1.jpg)"
   ]
  },
  {
   "cell_type": "markdown",
   "metadata": {},
   "source": [
    "## Introduction\n",
    "I have decided to base my assigment on a collection of data I gathered for my thesis as part of my Bsc. in Physiotherapy in 2012. For my thesis I investigated the overall prevalence of concussion in Irish amateur rugby players. On completion of my research my findings were used in various different sports medicine conferences and also featured in a national newspaper at the time. Concussion is defined as a “complex pathophysiological process affecting the brain, induced by traumatic biomechanical forces”(3). There are over 150,000 registered rugby players in Ireland and despite the popularity of the game, the physical nature of rugby can lead to many injuries occurring like concussion(5). The mismanagement of repeated concussion can lead to very serious long term effects likeamnesia and brain damage(6). Ireland has also experienced an increased exposure to the long term effects of concussion following the premature retirement of International rugby players due to their mismanagement of multiple concussions (7).\n",
    "\n",
    "\n",
    "\n",
    "Concern regarding concussion injury in rugby union has grown, due to its potentially dangerous long- term effects on players, but the prevalence is not known in Ireland(3). There are strict ‘return to play’ guidelines after concussion(4), however, it is unclear how compliant players are in regards to these regulations in Ireland. Previous studies of New Zealand rugby players have found the career prevalence of concussion to be as high as 60%(1). Hollis et al. in 2009 found that a player who received one concussion was twice as likely to suffer another later in the season (2). At the time of my study there was no published data on Irish rugby players. \n",
    "\n",
    "\n",
    "\n",
    "The original study consisted of 114 amatuer players who played with various Leinster junior clubs. Each player filled out a questionnaire designed by myself to investigate how common concussion was, it's symptoms and how much each player knew about concussion. Below is a copy of the first 2 pages of the questionnaire that I created to collect the data. \n",
    "\n",
    "![Q1](img/Q1.png)\n",
    "![Q2](img/Q2.png)\n",
    "\n",
    "\n",
    "\n",
    "Almost 33% (37/114) of players suffered a diagnosed concussion during their rugby-playing career (95% C.I. 23.4%-40.6%). Headache was the most common post-concussion symptom, present in 86% (32/37) of those with diagnosed concussion, dizziness ranked second ith 24% and nausea was third with 15%. Mean age of the 114 respondents was 25 years.The mean duration playing rugby was 13 years. Players trained 2 hours (median) a week and participated in 14 (median) matches a year. 46% concussions occurred in forwards and 54% in backs. 75% of players felt that concussion a danger to welfare however 57% would play in an important game if suffering from concussion symptoms.\n",
    "\n",
    "Below is the graph depicting the post concussion symtopms players reported in the original study. \n",
    "\n",
    "![symptoms](img/symptoms.png)\n",
    "\n"
   ]
  },
  {
   "cell_type": "markdown",
   "metadata": {},
   "source": [
    "## Variables and their relationships \n",
    "The main points from the data that I am going to try and find a hypothetical link between the more games a player plays after a concussion, the more likely he is to suffer a repeat injury. I found from my original dataset that 92% of concussions happen during a game. The most worrying statistic was that when a player suffered a concusion he generally had on average another 2 concussion after that original event. The 37 players who suffered a concussion from my original study accounted for 85 concussions between them with the average being 2.29 concussions per player. Nathonson et al in 2013 found the season prevalence of concussion in professional American Football players to be extremely high(8). They found that in 480 games, there were 292 concussions, resulting in 0.61 concussions per game. Applying this ratio to Irish amateur rugby, in theory the more games a player plays the increased risk of concussion and this is the hypothetical link I will try to find. \n",
    "\n",
    "I have decided to mock up the data of 100 players who suffered a concussion using the four variables of age, number of games played in a season, number of concussions and most common post-concussion symptom. \n",
    "\n",
    "I will use the first variable as a non zero integer (Age) with the normal distribution between 20-30 years. I have used the normal distribution for this variable as the mean age of players was 25 between with the range from 20-30 which should fit nicely into this distribution. \n",
    "\n",
    "My second variable will be a non zero integer (Games) and I will use the Gamma distribution between 10-20 games. My third variable will be a non zero integer (Concussion) which will again be with an Gamma distribution between 1-3. I have decided to use the Gamma distribution for both by second and third variables to try and create a graph indicating a relationship between the two variables. Ideally the graph will represent a linear relationship between the more games they play post concussion the more injuries are likely to occur. From the original study players who suffered a concussion generally suffered on average two more.  \n",
    "My last variable will be (Symptoms) which will be selected using normal distribution to divide up headache, dizziness and nausea. The first three variable will be non-zero integers and the last variable will be categorical variable with three different values. I have used normal distribution for these variables as generally each player would suffer from a multiple of different symtopms with these three conditions being the most prevalent.\n",
    "\n",
    "I will use this notebook to develop an algorithm to discuss my hypothetical link between an increased number of games post concussion leading to a heightened risk of suffering another concussion. I will generate some data using the numpy.random package and pandas and seaborn packages to analyse the data."
   ]
  },
  {
   "cell_type": "markdown",
   "metadata": {},
   "source": [
    "## Generate the Concussion Data and Data Analysis"
   ]
  },
  {
   "cell_type": "code",
   "execution_count": 106,
   "metadata": {},
   "outputs": [
    {
     "name": "stdout",
     "output_type": "stream",
     "text": [
      "[26 25 28 22 27 24 25 21 28 27 28 26 27 28 27 20 29 20 23 22 27 29 20 22\n",
      " 25 28 29 24 23 26 26 24 25 20 28 22 25 27 23 27 28 21 21 25 26 29 29 25\n",
      " 29 23 22 25 21 24 24 26 26 22 25 21 25 21 22 28 21 21 27 22 23 28 28 24\n",
      " 22 25 23 22 25 20 27 26 24 28 21 25 25 29 21 23 27 27 26 27 24 27 20 25\n",
      " 28 28 22 24]\n"
     ]
    },
    {
     "data": {
      "image/png": "[encoded data removed]",
      "text/plain": [
       "<Figure size 432x288 with 1 Axes>"
      ]
     },
     "metadata": {},
     "output_type": "display_data"
    }
   ],
   "source": [
    "# Age variable\n",
    "# Import the libraries I will use to evaluate the age of the 100 players who suffered a concussion. \n",
    "import numpy as np\n",
    "import pandas as pd\n",
    "import matplotlib.pyplot as plt\n",
    "\n",
    "#Make sure the graph is printed below\n",
    "%matplotlib inline\n",
    "\n",
    "# Using randint from the numpy.random package, variables based on my previous study\n",
    "age = (np.random.randint(20,30,100,))\n",
    "print (age)\n",
    "\n",
    "# Created a database of just age\n",
    "age = pd.Series(np.random.randint(20,30,100,))\n",
    "\n",
    "\n",
    "# Format the histogram\n",
    "age.plot.hist(grid=True, bins=10, rwidth=0.5,\n",
    "                   color='#607c8e')\n",
    "plt.title('Average Age of 100 Players with Concussion')\n",
    "plt.xlabel('Years of age')\n",
    "plt.ylabel('Number of Players')\n",
    "plt.grid(axis='y', alpha=0.75)\n",
    "\n",
    "# https://realpython.com/python-histograms/\n"
   ]
  },
  {
   "cell_type": "code",
   "execution_count": 9,
   "metadata": {},
   "outputs": [
    {
     "name": "stdout",
     "output_type": "stream",
     "text": [
      "[1 2 3 0 3 3 0 2 3 2 3 3 0 0 0 1 1 2 3 0 1 2 3 0 3 3 1 2 3 2 3 2 2 2 0 3 1\n",
      " 2 0 2 3 3 0 1 0 3 1 3 2 2 0 2 3 1 1 0 1 2 1 2 1 1 0 3 0 1 0 0 3 1 2 3 1 1\n",
      " 3 0 0 2 0 1 2 2 0 2 0 1 2 3 3 2 1 1 2 2 2 2 3 2 3 1]\n"
     ]
    },
    {
     "data": {
      "image/png": "[encoded data removed]",
      "text/plain": [
       "<Figure size 432x288 with 1 Axes>"
      ]
     },
     "metadata": {},
     "output_type": "display_data"
    }
   ],
   "source": [
    "#Finding the average number of concussion per 100 Players\n",
    "# Importing the necessary packages\n",
    "\n",
    "import numpy as np \n",
    "import matplotlib.pyplot as plt\n",
    "import pandas as pd\n",
    "# Make sure that the graph is printed below\n",
    "%matplotlib inline\n",
    "\n",
    "# Created the variable, using the randint package from the numpy.random package.\n",
    "# Values ranging to find the average number of concussions\n",
    "concussion = np.random.randint(0,4,100,)\n",
    "\n",
    "# print out the values\n",
    "print (concussion)\n",
    "\n",
    "# Created a database to develop and investigate the variables\n",
    "concussion = pd.Series(np.random.randint(0,4,100,))\n",
    "\n",
    "# Format the histogram\n",
    "concussion.plot.hist(grid=True, bins=10, rwidth=1,\n",
    "                   color='#607c8e')\n",
    "plt.title('Average Age of 100 Players with Concussion')\n",
    "plt.xlabel('Years of age')\n",
    "plt.ylabel('Number of Players')\n",
    "plt.grid(axis='y', alpha=.2)"
   ]
  },
  {
   "cell_type": "code",
   "execution_count": 33,
   "metadata": {},
   "outputs": [
    {
     "name": "stdout",
     "output_type": "stream",
     "text": [
      "0     Dizziness\n",
      "1      Headache\n",
      "2     Dizziness\n",
      "3     Dizziness\n",
      "4      Headache\n",
      "5        Nausea\n",
      "6        Nausea\n",
      "7      Headache\n",
      "8      Headache\n",
      "9     Dizziness\n",
      "10     Headache\n",
      "11     Headache\n",
      "12     Headache\n",
      "13     Headache\n",
      "14    Dizziness\n",
      "15       Nausea\n",
      "16    Dizziness\n",
      "17    Dizziness\n",
      "18       Nausea\n",
      "19       Nausea\n",
      "20    Dizziness\n",
      "21     Headache\n",
      "22    Dizziness\n",
      "23     Headache\n",
      "24    Dizziness\n",
      "25    Dizziness\n",
      "26       Nausea\n",
      "27    Dizziness\n",
      "28    Dizziness\n",
      "29     Headache\n",
      "        ...    \n",
      "70     Headache\n",
      "71     Headache\n",
      "72     Headache\n",
      "73     Headache\n",
      "74    Dizziness\n",
      "75    Dizziness\n",
      "76       Nausea\n",
      "77    Dizziness\n",
      "78       Nausea\n",
      "79     Headache\n",
      "80     Headache\n",
      "81       Nausea\n",
      "82    Dizziness\n",
      "83    Dizziness\n",
      "84     Headache\n",
      "85     Headache\n",
      "86     Headache\n",
      "87    Dizziness\n",
      "88       Nausea\n",
      "89     Headache\n",
      "90       Nausea\n",
      "91       Nausea\n",
      "92     Headache\n",
      "93    Dizziness\n",
      "94     Headache\n",
      "95     Headache\n",
      "96       Nausea\n",
      "97    Dizziness\n",
      "98     Headache\n",
      "99       Nausea\n",
      "Length: 100, dtype: object\n"
     ]
    },
    {
     "data": {
      "image/png": "[encoded data removed]",
      "text/plain": [
       "<Figure size 648x216 with 3 Axes>"
      ]
     },
     "metadata": {},
     "output_type": "display_data"
    }
   ],
   "source": [
    "#Symtopms of Concussion\n",
    "\n",
    "#Import the packages required. \n",
    "import pandas as pd\n",
    "import numpy as np\n",
    "\n",
    "# Create the variale\n",
    "symtopms= ['Headache', 'Dizziness','Nausea']\n",
    "\n",
    "# Create the dataframe to use for analysis, random.choice package from the numpy.random library to \n",
    "s = pd.Series(np.random.choice(symtopms) for i in range (100))\n",
    "print (s)\n",
    "\n",
    "\n",
    "%matplotlib inline\n",
    "# Generating the variables for the histogram table\n",
    "symtopms = ['Dizziness', 'Headaches', 'Nausea']\n",
    "# Took the values generated from the above dataframe\n",
    "values =[40,35,25]\n",
    "\n",
    "plt.figure(1, figsize=(9, 3))\n",
    "\n",
    "# 3 different types of plots to show the variables\n",
    "plt.subplot(131)\n",
    "plt.bar(symtopms, values)\n",
    "plt.subplot(132)\n",
    "plt.scatter(symtopms, values)\n",
    "plt.subplot(133)\n",
    "plt.plot(symtopms, values)\n",
    "plt.suptitle('Symtopms of Concussion')\n",
    "plt.show()\n",
    "\n",
    "#https://matplotlib.org/tutorials/introductory/pyplot.html#sphx-glr-tutorials-introductory-pyplot-py"
   ]
  },
  {
   "cell_type": "code",
   "execution_count": 13,
   "metadata": {},
   "outputs": [
    {
     "data": {
      "image/png": "[encoded data removed]",
      "text/plain": [
       "<Figure size 432x288 with 1 Axes>"
      ]
     },
     "metadata": {},
     "output_type": "display_data"
    }
   ],
   "source": [
    "# Generating data for average number of games played in a season\n",
    "\n",
    "import matplotlib.pyplot as plt\n",
    "import scipy.special as sps\n",
    "import numpy as np\n",
    "\n",
    "shape, scale = 14, 1.  # mean=14, std=5\n",
    "s = np.random.gamma(shape, scale,100)\n",
    "count, bins, ignored = plt.hist(s, 15, density=True)\n",
    "y = bins**(shape-1)*(np.exp(-bins/scale) / (sps.gamma(shape)*scale**shape))\n",
    "plt.plot(bins, y, linewidth=2, color='r')\n",
    "plt.xlabel('Number of games')\n",
    "plt.ylabel('Number of players')\n",
    "plt.show()\n",
    "\n",
    "#https://docs.scipy.org/doc/numpy/reference/generated/numpy.random.gamma.html#numpy.random.gamma "
   ]
  },
  {
   "cell_type": "code",
   "execution_count": 15,
   "metadata": {},
   "outputs": [
    {
     "name": "stdout",
     "output_type": "stream",
     "text": [
      "[0.45040904 5.37392886 2.69812549 1.30787476 1.21186103 2.14739815\n",
      " 1.22081471 1.01977611 0.81069445 0.74659477 1.40513032 0.34318705\n",
      " 1.97877845 1.79124812 0.20828607 1.28315747 0.52376492 0.15762268\n",
      " 2.35680454 1.42248698 1.02409369 1.07325099 0.81194431 0.11167132\n",
      " 1.45633377 0.37419186 1.17235798 0.349403   0.04977951 0.82038351\n",
      " 0.20290251 0.04953532 0.6435158  1.71424178 0.42587843 0.48441016\n",
      " 0.58751945 0.58489705 0.93583259 0.98868314 0.56907763 1.59220379\n",
      " 1.22051684 1.33110753 0.79219255 1.12865793 0.59751332 0.17463431\n",
      " 0.59436528 0.50233483 0.33467069 0.46102795 1.24698101 1.08256268\n",
      " 0.49500347 1.16814837 0.74304255 1.39534959 2.07091991 0.22807353\n",
      " 0.59254473 0.86152169 0.46802326 2.55177235 0.90709868 0.75837808\n",
      " 0.31913838 0.90404617 1.41555803 1.6499884  2.02499141 2.03227465\n",
      " 1.66114419 0.50288935 2.15234354 1.01233408 0.56252018 0.60378532\n",
      " 0.92279996 1.16979141 0.47752963 0.32558506 1.34547463 1.60788072\n",
      " 0.291255   0.35656912 0.36698888 0.59304544 0.94482873 0.0415221\n",
      " 1.14531535 1.1857361  0.60274883 0.82922447 0.16275863 1.08794359\n",
      " 0.4864467  0.39159216 0.6824693  0.18865569]\n"
     ]
    },
    {
     "data": {
      "image/png": "[encoded data removed]",
      "text/plain": [
       "<Figure size 432x288 with 1 Axes>"
      ]
     },
     "metadata": {},
     "output_type": "display_data"
    }
   ],
   "source": [
    "import numpy as np\n",
    "import pandas as pd\n",
    "# Make sure that the graph is printed below\n",
    "%matplotlib inline\n",
    "\n",
    "# Created the variable, using the randint package from the numpy.random package.\n",
    "# Values ranging to find the average number of concussions\n",
    "\n",
    "\n",
    "shape, scale = 2, .5  # mean=4, std=2*sqrt(2)\n",
    "c = np.random.gamma(shape, scale, 100)\n",
    "print (c)\n",
    "import matplotlib.pyplot as plt\n",
    "import scipy.special as sps\n",
    "count, bins, ignored = plt.hist(c, 4, density=True)\n",
    "y = bins**(shape-1)*(np.exp(-bins/scale) /(sps.gamma(shape)*scale**shape))\n",
    "plt.plot(bins, y, linewidth=1, color='r')\n",
    "plt.xlabel('Number of concussions')\n",
    "plt.ylabel('Number of players')\n",
    "plt.show()\n",
    "#https://docs.scipy.org/doc/numpy/reference/generated/numpy.random.gamma.html#numpy.random.gamma "
   ]
  },
  {
   "cell_type": "code",
   "execution_count": 35,
   "metadata": {},
   "outputs": [
    {
     "name": "stdout",
     "output_type": "stream",
     "text": [
      "Age           [[23, 22, 29, 21, 23, 22, 26, 27, 27, 21, 23, ...\n",
      "Concussion    [[1, 2, 2, 1, 1, 1, 2, 2, 2, 2, 1, 1, 2, 2, 2,...\n",
      "Games         [[17, 13, 10, 12, 18, 13, 11, 12, 12, 15, 14, ...\n",
      "dtype: object\n"
     ]
    },
    {
     "data": {
      "text/plain": [
       "count                                                     3\n",
       "unique                                                    3\n",
       "top       [[23, 22, 29, 21, 23, 22, 26, 27, 27, 21, 23, ...\n",
       "freq                                                      1\n",
       "dtype: object"
      ]
     },
     "execution_count": 35,
     "metadata": {},
     "output_type": "execute_result"
    }
   ],
   "source": [
    "# I tried to create a dataframe with all of the variables grouped together. \n",
    "# Unfortunately I was unable to create successfully and was not able to access the data needed to do some data analysis on it\n",
    "# I left this is to show my efforts at creating the dataframe and why I had to use individuals sections for the data analysis\n",
    "\n",
    "import pandas as pd\n",
    "import numpy as np\n",
    "\n",
    "data = {'Age' :[np.random.randint(20,30,100,)], 'Concussion' :[np.random.randint(1,3,100,)], 'Games' :[np.random.randint(10,20,100,)]}\n",
    "df = pd.Series(data,index=['player'])\n",
    "df= pd.Series(data)\n",
    "\n",
    "print (df)\n",
    "\n",
    "df.describe()\n",
    "#http://www.datasciencemadesimple.com/descriptive-summary-statistics-python-pandas/\n",
    "\n",
    "\n"
   ]
  },
  {
   "cell_type": "markdown",
   "metadata": {},
   "source": [
    "## References\n",
    "1. https://www.ncbi.nlm.nih.gov/pmc/articles/PMC2577443/\n",
    "2. https://journals.sagepub.com/doi/abs/10.1177/0363546509341032 \n",
    "3. https://bjsm.bmj.com/content/bjsports/51/11/838.full.pdf\n",
    "4. http://www.irbplayerwelfare.com/?documentid=3 \n",
    "5. http://www.irb.com/unions/union=11000001/index.html\n",
    "6. Gavett BE, Stern RA, McKee ACChronic traumatic encephalopathy: a potential late effectof sport-related concussive and       subconcussive head trauma. Clin SportsMed2011;30:179–88.\n",
    "7. http://www.independent.ie/sport/rugby/it-affects-every-facet-of-your-life-it-takes-from-you-im-a-different-person-when-this-is-bad-2410819.html\n",
    "8. https://www.ncbi.nlm.nih.gov/pmc/articles/PMC4731682/"
   ]
  },
  {
   "cell_type": "code",
   "execution_count": null,
   "metadata": {},
   "outputs": [],
   "source": []
  }
 ],
 "metadata": {
  "kernelspec": {
   "display_name": "Python 3",
   "language": "python",
   "name": "python3"
  },
  "language_info": {
   "codemirror_mode": {
    "name": "ipython",
    "version": 3
   },
   "file_extension": ".py",
   "mimetype": "text/x-python",
   "name": "python",
   "nbconvert_exporter": "python",
   "pygments_lexer": "ipython3",
   "version": "3.6.5"
  }
 },
 "nbformat": 4,
 "nbformat_minor": 2
}
