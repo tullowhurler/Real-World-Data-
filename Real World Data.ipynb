{
 "cells": [
  {
   "cell_type": "markdown",
   "metadata": {},
   "source": [
    "# The Prevalence of Concussion in Amateur Irish Rugby Players\n",
    "![concussion](img/concussion1.jpg)"
   ]
  },
  {
   "attachments": {},
   "cell_type": "markdown",
   "metadata": {},
   "source": [
    "## Introduction\n",
    "I have decided to base my assigment on a collection of data I gathered for my thesis as part of my Bsc. in Physiotherapy in 2012. For my thesis I investigated the prevalence of concussion in Irish amateur rugby players. On completion of my research my findings were used in various different sports medicine conferences and also featured in a national newspaper at the time.\n",
    "\n",
    "Concern regarding concussion injury in rugby union has grown, due to its potentially dangerous long- term effects on players, but the prevalence is not known. There are strict ‘return to play’ guidelines after concussion, however, it is unclear how compliant players are in regards to these regulations in Ireland. Previous studies of New Zealand rugby players have found the prevalence to be as high as 60%(1). Hollis et al. in 2009 found that a player who received 1 concussion was twice as likely to suffer another later in the season (2). At the time of my study there was no published data on Irish rugby players. \n",
    "\n",
    "\n",
    "The original study consisted of 114 amatuer players who played with various Leinster junior clubs. Each player filled out a questionnaire designed by myself to investigate how common concussion was, it's symptoms and how much each player knew about concussion. From Almost 33% (37/114) of players suffered a diagnosed concussion over their rugby-playing career (95% C.I. 23.4%-40.6%). Headache was the most common post-concussion symptom, present in 86% (32/37) of those with diagnosed concussion. Mean age of the 114 respondents was 25 years.The mean duration playing rugby was 13 years.Players trained 2 hours (median) a week and participated in 14 (median) matches a year. \n",
    "\n",
    "I have decided to mock up the data of 100 players who suffered a concussion using the four variables of age, number of games played in a season, number of concussions and most common post concussion symptom. \n"
   ]
  },
  {
   "cell_type": "code",
   "execution_count": null,
   "metadata": {},
   "outputs": [],
   "source": []
  },
  {
   "cell_type": "code",
   "execution_count": null,
   "metadata": {},
   "outputs": [],
   "source": []
  },
  {
   "cell_type": "code",
   "execution_count": null,
   "metadata": {},
   "outputs": [],
   "source": []
  },
  {
   "cell_type": "markdown",
   "metadata": {},
   "source": [
    "## References\n",
    "1. https://www.ncbi.nlm.nih.gov/pmc/articles/PMC2577443/\n"
   ]
  }
 ],
 "metadata": {
  "kernelspec": {
   "display_name": "Python 3",
   "language": "python",
   "name": "python3"
  },
  "language_info": {
   "codemirror_mode": {
    "name": "ipython",
    "version": 3
   },
   "file_extension": ".py",
   "mimetype": "text/x-python",
   "name": "python",
   "nbconvert_exporter": "python",
   "pygments_lexer": "ipython3",
   "version": "3.6.5"
  }
 },
 "nbformat": 4,
 "nbformat_minor": 2
}
