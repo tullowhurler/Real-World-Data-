{
 "cells": [
  {
   "cell_type": "markdown",
   "metadata": {},
   "source": [
    "# The Prevalence of Concussion in Amateur Irish Rugby Players\n",
    "![concussion](img/concussion1.jpg)"
   ]
  },
  {
   "cell_type": "markdown",
   "metadata": {},
   "source": [
    "## Introduction\n",
    "I have decided to base my assigment on a collection of data I gathered for my thesis as part of my Bsc. in Physiotherapy in 2012. For my thesis I investigated the overall prevalence of concussion in Irish amateur rugby players. On completion of my research my findings were used in various different sports medicine conferences and also featured in a national newspaper at the time. Concussion is defined as a “complex pathophysiological process affecting the brain, induced by traumatic biomechanical forces”(3). There are over 150,000 registered rugby players in Ireland and despite the popularity of the game, the physical nature of rugby can lead to many injuries occurring like concussion(5). The mismanagement of repeated concussion can lead to very serious long term effects likeamnesia and brain damage(6). Ireland has also experienced an increased exposure to the long term effects of concussion following the premature retirement of International rugby players due to their mismanagement of multiple concussions (7).\n",
    "\n",
    "\n",
    "\n",
    "Concern regarding concussion injury in rugby union has grown, due to its potentially dangerous long- term effects on players, but the prevalence is not known in Ireland(3). There are strict ‘return to play’ guidelines after concussion(4), however, it is unclear how compliant players are in regards to these regulations in Ireland. Previous studies of New Zealand rugby players have found the career prevalence of concussion to be as high as 60%(1). Hollis et al. in 2009 found that a player who received one concussion was twice as likely to suffer another later in the season (2). At the time of my study there was no published data on Irish rugby players. \n",
    "\n",
    "\n",
    "\n",
    "The original study consisted of 114 amatuer players who played with various Leinster junior clubs. Each player filled out a questionnaire designed by myself to investigate how common concussion was, it's symptoms and how much each player knew about concussion. Below is a copy of the first 2 pages of the questionnaire that I created to collect the data. \n",
    "\n",
    "![Q1](img/Q1.png)\n",
    "![Q2](img/Q2.png)\n",
    "\n",
    "\n",
    "\n",
    "Almost 33% (37/114) of players suffered a diagnosed concussion during their rugby-playing career (95% C.I. 23.4%-40.6%). Headache was the most common post-concussion symptom, present in 86% (32/37) of those with diagnosed concussion, dizziness ranked second ith 24% and nausea was third with 15%. Mean age of the 114 respondents was 25 years.The mean duration playing rugby was 13 years. Players trained 2 hours (median) a week and participated in 14 (median) matches a year. 46% concussions occurred in forwards and 54% in backs. 75% of players felt that concussion a danger to welfare however 57% would play in an important game if suffering from concussion symptoms.\n",
    "\n",
    "Below is the graph depicting the post concussion symtopms players reported in the original study. \n",
    "\n",
    "![symptoms](img/symptoms.png)\n",
    "\n"
   ]
  },
  {
   "cell_type": "markdown",
   "metadata": {},
   "source": [
    "## Variables and their relationships \n",
    "The main points from the data that I am going to try and find a hypothetical link between the more games a player plays after a concussion, the more likely he is to suffer a repeat injury. I found from my original dataset that 92% of concussions happen during a game. The most worrying statistic was that when a player suffered a concusion he generally had on average another 2 concussion after that original event. The 37 players who suffered a concussion from my original study accounted for 85 concussions between them with the average being 2.29 concussions per player. Nathonson et al in 2013 found the season prevalence of concussion in professional American Football players to be extremely high(8). They found that in 480 games, there were 292 concussions, resulting in 0.61 concussions per game. Applying this ratio to Irish amateur rugby, in theory the more games a player plays the increased risk of concussion and this is the hypothetical link I will try to find. \n",
    "\n",
    "I have decided to mock up the data of 100 players who suffered a concussion using the four variables of age, number of games played in a season, number of concussions and most common post-concussion symptom. \n",
    "\n",
    "I will use the first variable as a non zero integer (Age) with the normal distribution between 20-30 years. I have used the normal distribution for this variable as the mean age of players was 25 between with the range from 20-30 which should fit nicely into this distribution. \n",
    "\n",
    "My second variable will be a non zero integer (Games) and I will use the exponential distribution between 10-20 games. My third variable will be a non zero integer (Concussion) which will again be with an exponential distribution between 1-3. I have decided to use the exponential distribution for both by second and third variables to try and create a graph indicating a relationship between the two variables. Ideally the graph will represent a linear relationship between the more games they play post concussion the more injuries are likely to occur. From the original study players who suffered a concussion generally suffered on average two more.  \n",
    "My last variable will be (Symptoms) which will be selected using normal distribution to divide up headache, dizziness and nausea. The first three variable will be non-zero integers and the last variable will be categorical variable with three different values. I have used normal distribution for these variables as generally each player would suffer from a multiple of different symtopms with these three conditions being the most prevalent.\n",
    "\n",
    "I will use this notebook to develop an algorithm to discuss my hypothetical link between an increased number of games post concussion leading to a heightened risk of suffering another concussion. I will generate some data using the numpy.random package and pandas and seaborn packages to analyse the data."
   ]
  },
  {
   "cell_type": "code",
   "execution_count": 34,
   "metadata": {},
   "outputs": [
    {
     "ename": "AttributeError",
     "evalue": "module 'matplotlib' has no attribute 'hist'",
     "output_type": "error",
     "traceback": [
      "\u001b[1;31m---------------------------------------------------------------------------\u001b[0m",
      "\u001b[1;31mAttributeError\u001b[0m                            Traceback (most recent call last)",
      "\u001b[1;32m<ipython-input-34-0adc58b13678>\u001b[0m in \u001b[0;36m<module>\u001b[1;34m()\u001b[0m\n\u001b[0;32m      4\u001b[0m \u001b[0mnp\u001b[0m\u001b[1;33m.\u001b[0m\u001b[0mrandom\u001b[0m\u001b[1;33m.\u001b[0m\u001b[0mrandint\u001b[0m\u001b[1;33m(\u001b[0m\u001b[1;36m0\u001b[0m\u001b[1;33m,\u001b[0m\u001b[1;36m3\u001b[0m\u001b[1;33m,\u001b[0m\u001b[1;36m100\u001b[0m\u001b[1;33m)\u001b[0m\u001b[1;33m\u001b[0m\u001b[0m\n\u001b[0;32m      5\u001b[0m \u001b[1;33m\u001b[0m\u001b[0m\n\u001b[1;32m----> 6\u001b[1;33m \u001b[0mplt\u001b[0m\u001b[1;33m.\u001b[0m\u001b[0mhist\u001b[0m\u001b[1;33m\u001b[0m\u001b[0m\n\u001b[0m",
      "\u001b[1;31mAttributeError\u001b[0m: module 'matplotlib' has no attribute 'hist'"
     ]
    }
   ],
   "source": [
    "#Generate random data using numpy\n",
    "import numpy as np \n",
    "import matplotlib as plt\n",
    "np.random.randint(0,3,100)\n",
    "\n",
    "plt.hist"
   ]
  },
  {
   "cell_type": "code",
   "execution_count": 33,
   "metadata": {},
   "outputs": [
    {
     "data": {
      "text/plain": [
       "0     headache\n",
       "1    dizziness\n",
       "2       nausea\n",
       "dtype: category\n",
       "Categories (3, object): [dizziness, headache, nausea]"
      ]
     },
     "execution_count": 33,
     "metadata": {},
     "output_type": "execute_result"
    }
   ],
   "source": [
    "import numpy as np\n",
    "import pandas as pd\n",
    "\n",
    "s = pd.Series([\"headache\", \"dizziness\", \"nausea\"], dtype=\"category\")\n",
    "s "
   ]
  },
  {
   "cell_type": "markdown",
   "metadata": {},
   "source": [
    "## References\n",
    "1. https://www.ncbi.nlm.nih.gov/pmc/articles/PMC2577443/\n",
    "2. https://journals.sagepub.com/doi/abs/10.1177/0363546509341032 \n",
    "3. https://bjsm.bmj.com/content/bjsports/51/11/838.full.pdf\n",
    "4. http://www.irbplayerwelfare.com/?documentid=3 \n",
    "5. http://www.irb.com/unions/union=11000001/index.html\n",
    "6. Gavett BE, Stern RA, McKee ACChronic traumatic encephalopathy: a potential late effectof sport-related concussive and       subconcussive head trauma. Clin SportsMed2011;30:179–88.\n",
    "7. http://www.independent.ie/sport/rugby/it-affects-every-facet-of-your-life-it-takes-from-you-im-a-different-person-when-this-is-bad-2410819.html\n",
    "8. https://www.ncbi.nlm.nih.gov/pmc/articles/PMC4731682/"
   ]
  },
  {
   "cell_type": "code",
   "execution_count": null,
   "metadata": {},
   "outputs": [],
   "source": []
  }
 ],
 "metadata": {
  "kernelspec": {
   "display_name": "Python 3",
   "language": "python",
   "name": "python3"
  },
  "language_info": {
   "codemirror_mode": {
    "name": "ipython",
    "version": 3
   },
   "file_extension": ".py",
   "mimetype": "text/x-python",
   "name": "python",
   "nbconvert_exporter": "python",
   "pygments_lexer": "ipython3",
   "version": "3.6.5"
  }
 },
 "nbformat": 4,
 "nbformat_minor": 2
}
