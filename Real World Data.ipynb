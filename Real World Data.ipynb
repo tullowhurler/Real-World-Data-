{
 "cells": [
  {
   "cell_type": "markdown",
   "metadata": {},
   "source": [
    "# The Prevalence of Concussion in Amateur Irish Rugby Players\n",
    "![concussion](img/concussion1.jpg)"
   ]
  },
  {
   "cell_type": "markdown",
   "metadata": {},
   "source": [
    "## Introduction\n",
    "I have decided to base my assigment on a collection of data I gathered for my thesis as part of my Bsc. in Physiotherapy in 2012. For my thesis I investigated the overall prevalence of concussion in Irish amateur rugby players. On completion of my research my findings were used in various different sports medicine conferences and also featured in a national newspaper at the time. Concussion is defined as a “complex pathophysiological process affecting the brain, induced by traumatic biomechanical forces”(3). There are over 150,000 registered rugby players in Ireland and despite the popularity of the game, the physical nature of rugby can lead to many injuries occurring like concussion(5). The mismanagement of repeated concussion can lead to very serious long term effects likeamnesia and brain damage(6). Ireland has also experienced an increased exposure to the long term effects of concussion following the premature retirement of International rugby players due to their mismanagement of multiple concussions (7).\n",
    "\n",
    "\n",
    "\n",
    "Concern regarding concussion injury in rugby union has grown, due to its potentially dangerous long- term effects on players, but the prevalence is not known in Ireland(3). There are strict ‘return to play’ guidelines after concussion(4), however, it is unclear how compliant players are in regards to these regulations in Ireland. Previous studies of New Zealand rugby players have found the career prevalence of concussion to be as high as 60%(1). Hollis et al. in 2009 found that a player who received one concussion was twice as likely to suffer another later in the season (2). At the time of my study there was no published data on Irish rugby players. \n",
    "\n",
    "\n",
    "\n",
    "The original study consisted of 114 amatuer players who played with various Leinster junior clubs. Each player filled out a questionnaire designed by myself to investigate how common concussion was, it's symptoms and how much each player knew about concussion. Below is a copy of the first 2 pages of the questionnaire that I created to collect the data. \n",
    "\n",
    "![Q1](img/Q1.png)\n",
    "![Q2](img/Q2.png)\n",
    "\n",
    "\n",
    "\n",
    "Almost 33% (37/114) of players suffered a diagnosed concussion during their rugby-playing career (95% C.I. 23.4%-40.6%). Headache was the most common post-concussion symptom, present in 86% (32/37) of those with diagnosed concussion, dizziness ranked second ith 24% and nausea was third with 15%. Mean age of the 114 respondents was 25 years.The mean duration playing rugby was 13 years. Players trained 2 hours (median) a week and participated in 14 (median) matches a year. 46% concussions occurred in forwards and 54% in backs. 75% of players felt that concussion a danger to welfare however 57% would play in an important game if suffering from concussion symptoms.\n",
    "\n",
    "Below is the graph depicting the post concussion symtopms players reported in the original study. \n",
    "\n",
    "![symptoms](img/symptoms.png)\n",
    "\n"
   ]
  },
  {
   "cell_type": "markdown",
   "metadata": {},
   "source": [
    "## Variables and their relationships \n",
    "The main points from the data that I am going to try and find a hypothetical link between the more games a player plays after a concussion, the more likely he is to suffer a repeat injury. I found from my original dataset that 92% of concussions happen during a game. The most worrying statistic was that when a player suffered a concusion he generally had on average another 2 concussion after that original event. The 37 players who suffered a concussion from my original study accounted for 85 concussions between them with the average being 2.29 concussions per player. Nathonson et al in 2013 found the season prevalence of concussion in professional American Football players to be extremely high(8). They found that in 480 games, there were 292 concussions, resulting in 0.61 concussions per game. Applying this ratio to Irish amateur rugby, in theory the more games a player plays the increased risk of concussion and this is the hypothetical link I will try to find. \n",
    "\n",
    "I have decided to mock up the data of 100 players who suffered a concussion using the four variables of age, number of games played in a season, number of concussions and most common post-concussion symptom. \n",
    "\n",
    "I will use the first variable as a non zero integer (Age) with the normal distribution between 20-30 years. I have used the normal distribution for this variable as the mean age of players was 25 between with the range from 20-30 which should fit nicely into this distribution. \n",
    "\n",
    "My second variable will be a non zero integer (Games) and I will use the exponential distribution between 10-20 games. My third variable will be a non zero integer (Concussion) which will again be with an exponential distribution between 1-3. I have decided to use the exponential distribution for both by second and third variables to try and create a graph indicating a relationship between the two variables. Ideally the graph will represent a linear relationship between the more games they play post concussion the more injuries are likely to occur. From the original study players who suffered a concussion generally suffered on average two more.  \n",
    "My last variable will be (Symptoms) which will be selected using normal distribution to divide up headache, dizziness and nausea. The first three variable will be non-zero integers and the last variable will be categorical variable with three different values. I have used normal distribution for these variables as generally each player would suffer from a multiple of different symtopms with these three conditions being the most prevalent.\n",
    "\n",
    "I will use this notebook to develop an algorithm to discuss my hypothetical link between an increased number of games post concussion leading to a heightened risk of suffering another concussion. I will generate some data using the numpy.random package and pandas and seaborn packages to analyse the data."
   ]
  },
  {
   "cell_type": "code",
   "execution_count": 106,
   "metadata": {},
   "outputs": [
    {
     "name": "stdout",
     "output_type": "stream",
     "text": [
      "[26 25 28 22 27 24 25 21 28 27 28 26 27 28 27 20 29 20 23 22 27 29 20 22\n",
      " 25 28 29 24 23 26 26 24 25 20 28 22 25 27 23 27 28 21 21 25 26 29 29 25\n",
      " 29 23 22 25 21 24 24 26 26 22 25 21 25 21 22 28 21 21 27 22 23 28 28 24\n",
      " 22 25 23 22 25 20 27 26 24 28 21 25 25 29 21 23 27 27 26 27 24 27 20 25\n",
      " 28 28 22 24]\n"
     ]
    },
    {
     "data": {
      "image/png": "[encoded data removed]",
      "text/plain": [
       "<Figure size 432x288 with 1 Axes>"
      ]
     },
     "metadata": {},
     "output_type": "display_data"
    }
   ],
   "source": [
    "# Age variable\n",
    "# Import the libraries I will use to evaluate the age of the 100 players who suffered a concussion. \n",
    "import numpy as np\n",
    "import pandas as pd\n",
    "import matplotlib.pyplot as plt\n",
    "%matplotlib inline\n",
    "\n",
    "age = (np.random.randint(20,30,100,))\n",
    "print (age)\n",
    "\n",
    "age = pd.Series(np.random.randint(20,30,100,))\n",
    "\n",
    "age.plot.hist(grid=True, bins=10, rwidth=0.5,\n",
    "                   color='#607c8e')\n",
    "plt.title('Average Age of 100 Players with Concussion')\n",
    "plt.xlabel('Years of age')\n",
    "plt.ylabel('Number of Players')\n",
    "plt.grid(axis='y', alpha=0.75)\n",
    "\n",
    "# https://realpython.com/python-histograms/\n"
   ]
  },
  {
   "cell_type": "code",
   "execution_count": 105,
   "metadata": {},
   "outputs": [
    {
     "name": "stdout",
     "output_type": "stream",
     "text": [
      "[1 0 2 3 1 3 2 0 0 2 1 2 2 0 1 2 2 1 2 1 3 3 0 0 2 1 0 2 0 3 0 3 3 2 3 2 0\n",
      " 3 3 3 3 3 0 2 2 0 3 1 1 0 2 1 2 1 3 2 3 0 2 1 2 2 2 2 3 3 3 1 0 2 2 1 2 1\n",
      " 0 1 2 2 2 2 3 2 0 0 1 0 1 0 2 0 0 2 3 0 0 0 0 1 0 0]\n"
     ]
    },
    {
     "data": {
      "image/png": "[encoded data removed]",
      "text/plain": [
       "<Figure size 432x288 with 1 Axes>"
      ]
     },
     "metadata": {},
     "output_type": "display_data"
    }
   ],
   "source": [
    "#Finding the average number of concussion per 100 Players\n",
    "import numpy as np \n",
    "import matplotlib.pyplot as plt\n",
    "%matplotlib inline\n",
    "concussion = np.random.randint(0,4,100,)\n",
    "\n",
    "print (concussion)\n",
    "\n",
    "age = pd.Series(np.random.randint(0,4,100,))\n",
    "\n",
    "age.plot.hist(grid=True, bins=10, rwidth=2,\n",
    "                   color='#607c8e')\n",
    "plt.title('Average Age of 100 Players with Concussion')\n",
    "plt.xlabel('Years of age')\n",
    "plt.ylabel('Number of Players')\n",
    "plt.grid(axis='y', alpha=.2)"
   ]
  },
  {
   "cell_type": "code",
   "execution_count": 4,
   "metadata": {},
   "outputs": [
    {
     "data": {
      "text/html": [
       "<div>\n",
       "<style scoped>\n",
       "    .dataframe tbody tr th:only-of-type {\n",
       "        vertical-align: middle;\n",
       "    }\n",
       "\n",
       "    .dataframe tbody tr th {\n",
       "        vertical-align: top;\n",
       "    }\n",
       "\n",
       "    .dataframe thead th {\n",
       "        text-align: right;\n",
       "    }\n",
       "</style>\n",
       "<table border=\"1\" class=\"dataframe\">\n",
       "  <thead>\n",
       "    <tr style=\"text-align: right;\">\n",
       "      <th></th>\n",
       "      <th>a</th>\n",
       "      <th>b</th>\n",
       "      <th>c</th>\n",
       "      <th>d</th>\n",
       "      <th>e</th>\n",
       "    </tr>\n",
       "  </thead>\n",
       "  <tbody>\n",
       "    <tr>\n",
       "      <th>0</th>\n",
       "      <td>8</td>\n",
       "      <td>4</td>\n",
       "      <td>7</td>\n",
       "      <td>0</td>\n",
       "      <td>2</td>\n",
       "    </tr>\n",
       "    <tr>\n",
       "      <th>1</th>\n",
       "      <td>1</td>\n",
       "      <td>0</td>\n",
       "      <td>7</td>\n",
       "      <td>2</td>\n",
       "      <td>5</td>\n",
       "    </tr>\n",
       "    <tr>\n",
       "      <th>2</th>\n",
       "      <td>6</td>\n",
       "      <td>9</td>\n",
       "      <td>3</td>\n",
       "      <td>4</td>\n",
       "      <td>5</td>\n",
       "    </tr>\n",
       "    <tr>\n",
       "      <th>3</th>\n",
       "      <td>8</td>\n",
       "      <td>5</td>\n",
       "      <td>9</td>\n",
       "      <td>7</td>\n",
       "      <td>7</td>\n",
       "    </tr>\n",
       "    <tr>\n",
       "      <th>4</th>\n",
       "      <td>6</td>\n",
       "      <td>9</td>\n",
       "      <td>3</td>\n",
       "      <td>3</td>\n",
       "      <td>4</td>\n",
       "    </tr>\n",
       "  </tbody>\n",
       "</table>\n",
       "</div>"
      ],
      "text/plain": [
       "   a  b  c  d  e\n",
       "0  8  4  7  0  2\n",
       "1  1  0  7  2  5\n",
       "2  6  9  3  4  5\n",
       "3  8  5  9  7  7\n",
       "4  6  9  3  3  4"
      ]
     },
     "execution_count": 4,
     "metadata": {},
     "output_type": "execute_result"
    }
   ],
   "source": [
    "import pandas as pd\n",
    "import numpy as np\n",
    "df2 = pd.DataFrame(np.random.randint(low=0, high=10, size=(5, 5)),columns=['a', 'b', 'c', 'd', 'e'])\n",
    "df2\n"
   ]
  },
  {
   "cell_type": "code",
   "execution_count": 36,
   "metadata": {},
   "outputs": [
    {
     "name": "stdout",
     "output_type": "stream",
     "text": [
      "['Dizziness', 'Dizziness', 'Headache', 'Dizziness', 'Dizziness', 'Nausea', 'Headache', 'Nausea', 'Dizziness', 'Nausea', 'Dizziness', 'Nausea', 'Headache', 'Nausea', 'Dizziness', 'Headache', 'Headache', 'Headache', 'Dizziness', 'Headache', 'Nausea', 'Dizziness', 'Headache', 'Headache', 'Nausea', 'Nausea', 'Dizziness', 'Headache', 'Dizziness', 'Headache', 'Headache', 'Headache', 'Nausea', 'Headache', 'Dizziness', 'Dizziness', 'Headache', 'Dizziness', 'Headache', 'Dizziness', 'Dizziness', 'Nausea', 'Headache', 'Nausea', 'Headache', 'Headache', 'Dizziness', 'Headache', 'Dizziness', 'Nausea', 'Headache', 'Headache', 'Dizziness', 'Nausea', 'Nausea', 'Headache', 'Headache', 'Dizziness', 'Nausea', 'Headache', 'Dizziness', 'Dizziness', 'Dizziness', 'Dizziness', 'Nausea', 'Dizziness', 'Nausea', 'Nausea', 'Dizziness', 'Nausea', 'Nausea', 'Nausea', 'Headache', 'Nausea', 'Nausea', 'Headache', 'Headache', 'Headache', 'Dizziness', 'Nausea', 'Nausea', 'Dizziness', 'Headache', 'Dizziness', 'Dizziness', 'Headache', 'Nausea', 'Headache', 'Nausea', 'Nausea', 'Nausea', 'Headache', 'Dizziness', 'Nausea', 'Dizziness', 'Dizziness', 'Nausea', 'Dizziness', 'Headache', 'Headache']\n"
     ]
    }
   ],
   "source": [
    "symtopms= ['Headache', 'Dizziness','Nausea']\n",
    "s = [np.random.choice(symtopms) for i in range (100)]\n",
    "print (s)"
   ]
  },
  {
   "cell_type": "code",
   "execution_count": 7,
   "metadata": {},
   "outputs": [
    {
     "name": "stdout",
     "output_type": "stream",
     "text": [
      "Age           [[29, 27, 25, 29, 20, 27, 28, 29, 26, 23, 29, ...\n",
      "Concussion    [[2, 1, 1, 2, 2, 1, 1, 1, 1, 2, 2, 1, 1, 1, 1,...\n",
      "Games         [[17, 17, 11, 12, 19, 17, 17, 14, 12, 16, 15, ...\n",
      "dtype: object\n"
     ]
    }
   ],
   "source": [
    "import pandas as pd\n",
    "import seaborn as sns\n",
    "import numpy as np\n",
    "import seaborn as sns\n",
    "import matplotlib.pyplot as plt\n",
    "\n",
    "\n",
    "\n",
    "data = {'Age' :[np.random.randint(20,30,100,)], 'Concussion' :[np.random.randint(1,3,100,)], 'Games' :[np.random.randint(10,20,100,)]}\n",
    "df = pd.DataFrame(data,index=['player'])\n",
    "df= pd.Series(data)\n",
    "\n",
    "print (df)\n",
    "\n",
    "\n",
    "\n",
    "\n"
   ]
  },
  {
   "cell_type": "markdown",
   "metadata": {},
   "source": [
    "## References\n",
    "1. https://www.ncbi.nlm.nih.gov/pmc/articles/PMC2577443/\n",
    "2. https://journals.sagepub.com/doi/abs/10.1177/0363546509341032 \n",
    "3. https://bjsm.bmj.com/content/bjsports/51/11/838.full.pdf\n",
    "4. http://www.irbplayerwelfare.com/?documentid=3 \n",
    "5. http://www.irb.com/unions/union=11000001/index.html\n",
    "6. Gavett BE, Stern RA, McKee ACChronic traumatic encephalopathy: a potential late effectof sport-related concussive and       subconcussive head trauma. Clin SportsMed2011;30:179–88.\n",
    "7. http://www.independent.ie/sport/rugby/it-affects-every-facet-of-your-life-it-takes-from-you-im-a-different-person-when-this-is-bad-2410819.html\n",
    "8. https://www.ncbi.nlm.nih.gov/pmc/articles/PMC4731682/"
   ]
  },
  {
   "cell_type": "code",
   "execution_count": null,
   "metadata": {},
   "outputs": [],
   "source": []
  }
 ],
 "metadata": {
  "kernelspec": {
   "display_name": "Python 3",
   "language": "python",
   "name": "python3"
  },
  "language_info": {
   "codemirror_mode": {
    "name": "ipython",
    "version": 3
   },
   "file_extension": ".py",
   "mimetype": "text/x-python",
   "name": "python",
   "nbconvert_exporter": "python",
   "pygments_lexer": "ipython3",
   "version": "3.6.5"
  }
 },
 "nbformat": 4,
 "nbformat_minor": 2
}
